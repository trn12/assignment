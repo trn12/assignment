{
  "cells": [
    {
      "cell_type": "code",
      "source": [
        "#What is the difference between a function and a method in Python?\n",
        "\n",
        "# In Python, a function and a method are both blocks of code that perform a specific task.\n",
        "# However, the main difference lies in how they are defined and used.\n",
        "\n",
        "# Function:\n",
        "# - A function is a block of code that is defined independently and can be called from anywhere in the program.\n",
        "# - It does not belong to any specific object or class.\n",
        "def my_function():\n",
        "  print(\"This is a function.\")\n",
        "\n",
        "\n",
        "# Method:\n",
        "# - A method is a function that is defined within a class and associated with an object of that class.\n",
        "# - It can access and modify the object's data (attributes) and perform actions related to the object.\n",
        "class MyClass:\n",
        "  def my_method(self):\n",
        "    print(\"This is a method.\")\n",
        "\n",
        "my_object = MyClass()\n",
        "my_object.my_method()\n",
        "\n",
        "# In summary, a function is a standalone block of code, while a method is a function associated with an object.\n"
      ],
      "metadata": {
        "id": "MaRFWwOdYInK"
      },
      "execution_count": null,
      "outputs": []
    }
  ],
  "metadata": {
    "colab": {
      "toc_visible": true,
      "provenance": []
    },
    "kernelspec": {
      "display_name": "Python 3",
      "name": "python3"
    }
  },
  "nbformat": 4,
  "nbformat_minor": 0
}