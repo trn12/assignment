{
  "cells": [
    {
      "cell_type": "code",
      "source": [
        "# Q1. Describe how to add modify and delete tems in a dictonary with examples.\n",
        "\n",
        "# Creating a dictionary\n",
        "my_dict = {\"name\": \"Alice\", \"age\": 30}\n",
        "\n",
        "# Adding a new key-value pair\n",
        "my_dict[\"city\"] = \"New York\"\n",
        "print(my_dict)  # Output: {'name': 'Alice', 'age': 30, 'city': 'New York'}\n",
        "\n",
        "# Modifying an existing value\n",
        "my_dict[\"age\"] = 31\n",
        "print(my_dict)  # Output: {'name': 'Alice', 'age': 31, 'city': 'New York'}\n",
        "\n",
        "# Deleting a key-value pair\n",
        "del my_dict[\"city\"]\n",
        "print(my_dict)  # Output: {'name': 'Alice', 'age': 31}\n"
      ],
      "metadata": {
        "id": "qt5LVqVS_bEa",
        "outputId": "90b2e433-d3e8-4b36-c368-ec05796f1277",
        "colab": {
          "base_uri": "https://localhost:8080/"
        }
      },
      "execution_count": null,
      "outputs": [
        {
          "output_type": "stream",
          "name": "stdout",
          "text": [
            "{'name': 'Alice', 'age': 30, 'city': 'New York'}\n",
            "{'name': 'Alice', 'age': 31, 'city': 'New York'}\n",
            "{'name': 'Alice', 'age': 31}\n"
          ]
        }
      ]
    },
    {
      "cell_type": "code",
      "source": [
        "speed"
      ],
      "metadata": {
        "id": "llmNccYn_bHt"
      },
      "execution_count": null,
      "outputs": []
    },
    {
      "cell_type": "code",
      "source": [],
      "metadata": {
        "id": "YAZwVzrHD3bk"
      },
      "execution_count": null,
      "outputs": []
    }
  ],
  "metadata": {
    "colab": {
      "provenance": []
    },
    "kernelspec": {
      "display_name": "Python 3",
      "name": "python3"
    }
  },
  "nbformat": 4,
  "nbformat_minor": 0
}